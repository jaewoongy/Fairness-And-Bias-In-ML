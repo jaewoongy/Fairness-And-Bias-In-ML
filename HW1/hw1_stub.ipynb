{
 "cells": [
  {
   "cell_type": "markdown",
   "id": "d0eada47-8492-4048-9f77-d0ed81881a61",
   "metadata": {},
   "source": [
    "# Homework 1: Regression and classification\n"
   ]
  },
  {
   "cell_type": "markdown",
   "id": "35970852-6e0e-40ac-8c96-69f610ad9eab",
   "metadata": {},
   "source": [
    "## Regression: download the steam dataset:\n",
    "https://cseweb.ucsd.edu/classes/fa24/cse258-b/files/steam.json.gz\n",
    "\n",
    "Experiments in this section will only use the “time played” (d[“hours”]) and the length of the review text (len(d[“text”)])."
   ]
  },
  {
   "cell_type": "code",
   "execution_count": 100,
   "id": "cc856714-8918-46da-85a7-9d2f51a26f1d",
   "metadata": {},
   "outputs": [],
   "source": [
    "import gzip\n",
    "\n",
    "z = gzip.open(\"steam.json.gz\")\n",
    "dataset = []\n",
    "for l in z:\n",
    "    d = eval(l)\n",
    "    dataset.append(d)"
   ]
  },
  {
   "cell_type": "code",
   "execution_count": 101,
   "id": "d5740954-7602-4bd3-af88-6c980659eeb3",
   "metadata": {},
   "outputs": [
    {
     "data": {
      "text/plain": [
       "(175000,\n",
       " {'hours': 0.3,\n",
       "  'gameID': 'g35322304',\n",
       "  'hours_transformed': 0.37851162325372983,\n",
       "  'early_access': False,\n",
       "  'date': '2015-04-08',\n",
       "  'text': '+1',\n",
       "  'userID': 'u55351001'})"
      ]
     },
     "execution_count": 101,
     "metadata": {},
     "output_type": "execute_result"
    }
   ],
   "source": [
    "len(dataset), dataset[0]"
   ]
  },
  {
   "cell_type": "code",
   "execution_count": 102,
   "id": "14862e0d",
   "metadata": {},
   "outputs": [
    {
     "data": {
      "text/plain": [
       "140000.0"
      ]
     },
     "execution_count": 102,
     "metadata": {},
     "output_type": "execute_result"
    }
   ],
   "source": [
    "175000*0.8"
   ]
  },
  {
   "cell_type": "markdown",
   "id": "f6e1c03a-f624-4e0e-80a2-02a87d8a6ef8",
   "metadata": {},
   "source": [
    " - Implement regression on time played (hours) using the length of the review and a bias term. Use an 80%/20% training/test split. Use sklearn’s linear_model.LinearRegression. Report the MSE on the test set."
   ]
  },
  {
   "cell_type": "code",
   "execution_count": 103,
   "id": "9211b6c0",
   "metadata": {},
   "outputs": [],
   "source": [
    "from sklearn.linear_model import LinearRegression\n",
    "from sklearn.metrics import mean_squared_error\n",
    "from sklearn.metrics import mean_absolute_error\n",
    "from sklearn.model_selection import train_test_split\n",
    "import numpy as np\n",
    "\n",
    "X = np.array([len(d['text']) for d in dataset]).reshape(-1, 1)\n",
    "y = np.array([d['hours'] for d in dataset])\n",
    "X_train, X_test, y_train, y_test = X[:140000], X[140000:], y[:140000], y[140000:]\n",
    "\n",
    "reg = LinearRegression()\n",
    "reg.fit(X_train, y_train)\n",
    "pred = reg.predict(X_test)"
   ]
  },
  {
   "cell_type": "code",
   "execution_count": 104,
   "id": "e2528e4f-ac7a-4d59-9c8c-8d34e86127f7",
   "metadata": {},
   "outputs": [
    {
     "data": {
      "text/plain": [
       "76047.19578054463"
      ]
     },
     "execution_count": 104,
     "metadata": {},
     "output_type": "execute_result"
    }
   ],
   "source": [
    "q1_mse = mean_squared_error(y_test, pred)\n",
    "q1_mse"
   ]
  },
  {
   "cell_type": "markdown",
   "id": "cc45cee5-7ed4-4d2f-b369-e91a7ae5e846",
   "metadata": {},
   "source": [
    "- Delete outliers from the training set. Keep the bottom 90% of time played values. Report the MSE on the test set, as well as the MAE on the test set."
   ]
  },
  {
   "cell_type": "code",
   "execution_count": 105,
   "id": "55af4a35",
   "metadata": {},
   "outputs": [
    {
     "data": {
      "text/plain": [
       "(78496.18922226882, 64.2830186993766)"
      ]
     },
     "execution_count": 105,
     "metadata": {},
     "output_type": "execute_result"
    }
   ],
   "source": [
    "mask = y_train < np.percentile(y_train, 90)\n",
    "new_x_train = X_train[mask].reshape(-1, 1)\n",
    "new_y_train = y_train[mask]\n",
    "\n",
    "reg = LinearRegression()\n",
    "reg.fit(new_x_train, new_y_train)\n",
    "new_pred = reg.predict(X_test)\n",
    "\n",
    "q2_mse = mean_squared_error(y_test, new_pred)\n",
    "q2_mae = mean_absolute_error(y_test, new_pred)\n",
    "\n",
    "q2_mse, q2_mae"
   ]
  },
  {
   "cell_type": "code",
   "execution_count": 106,
   "id": "a2f1e166-85f0-4d97-ba38-49d4ce74d604",
   "metadata": {},
   "outputs": [],
   "source": [
    "from sklearn.metrics import mean_absolute_error\n",
    "\n",
    "q2_mae = mean_squared_error(y_test, new_pred)\n",
    "q2_mae = mean_absolute_error(y_test, new_pred)"
   ]
  },
  {
   "cell_type": "markdown",
   "id": "ae58e8e7-030e-4f9c-a98f-fe22de81d467",
   "metadata": {},
   "source": [
    "- Transform the target variable by taking log_2(y + 1). After performing regression on the test set, invert the transform (so that your model still predicts a number of hours), and report the MSE on the test set."
   ]
  },
  {
   "cell_type": "code",
   "execution_count": 107,
   "id": "0a2c71fc",
   "metadata": {},
   "outputs": [
    {
     "data": {
      "text/plain": [
       "(79035.51797861399, 63.37348865035023)"
      ]
     },
     "execution_count": 107,
     "metadata": {},
     "output_type": "execute_result"
    }
   ],
   "source": [
    "import math\n",
    "\n",
    "def trans(y):\n",
    "    return np.log2(y+1)\n",
    "\n",
    "# Invert the transformation\n",
    "def inv_trans(y):\n",
    "    return 2 ** y - 1\n",
    "\n",
    "trans_y_train = trans(y_train)\n",
    "trans_y_test = trans(y_test)\n",
    "reg = LinearRegression()\n",
    "reg.fit(X_train, trans_y_train)\n",
    "\n",
    "trans_pred = reg.predict(X_test)\n",
    "pred = inv_trans(trans_pred)\n",
    "\n",
    "q3_mse = mean_squared_error(y_test, pred)\n",
    "q3_mae = mean_absolute_error(y_test, pred)\n",
    "q3_mse, q3_mae"
   ]
  },
  {
   "cell_type": "markdown",
   "id": "8c4c4aa6-c921-42b0-aa99-8988bf168ba5",
   "metadata": {},
   "source": [
    "- Build a regressor that optimizes the MAE rather than the MSE (see e.g. https://stackoverflow.com/questions/71534025/how-mae-loss-is-optimized-with-sgd-optimizer-in-sklearn). Report the MSE and the MAE on the test set"
   ]
  },
  {
   "cell_type": "code",
   "execution_count": 108,
   "id": "4af690f1",
   "metadata": {},
   "outputs": [],
   "source": [
    "from sklearn.linear_model import SGDRegressor\n",
    "reg = SGDRegressor(loss = 'epsilon_insensitive',\n",
    "                   epsilon=0,\n",
    "                   learning_rate='adaptive',\n",
    "                   random_state=42)\n",
    "reg.fit(X_train, trans_y_train)\n",
    "pred = reg.predict(X_test)"
   ]
  },
  {
   "cell_type": "code",
   "execution_count": 109,
   "id": "6140a550-ab30-444e-a016-9b260ac8e26c",
   "metadata": {},
   "outputs": [
    {
     "data": {
      "text/plain": [
       "80145.51353121246"
      ]
     },
     "execution_count": 109,
     "metadata": {},
     "output_type": "execute_result"
    }
   ],
   "source": [
    "\n",
    "q4_mse = mean_squared_error(y_test, pred)\n",
    "q4_mse"
   ]
  },
  {
   "cell_type": "code",
   "execution_count": 110,
   "id": "c67263c6-3226-4ea3-964a-09e51ef0610e",
   "metadata": {},
   "outputs": [
    {
     "data": {
      "text/plain": [
       "64.92864695269388"
      ]
     },
     "execution_count": 110,
     "metadata": {},
     "output_type": "execute_result"
    }
   ],
   "source": [
    "q4_mae = mean_absolute_error(y_test, pred)\n",
    "q4_mae"
   ]
  },
  {
   "cell_type": "markdown",
   "id": "20e96135-510d-4cf6-9865-0d52a40a7c8f",
   "metadata": {},
   "source": [
    "## Classification: \n",
    "\n",
    "download the German Credit dataset: https://archive.ics.uci.edu/dataset/144/statlog+german+credit+data"
   ]
  },
  {
   "cell_type": "markdown",
   "id": "3acdd82e-1703-4675-9c88-0be1a18c97de",
   "metadata": {},
   "source": [
    "- Implement a logistic regressor (sklearn’s linear_model.LogisticRegression) to predict the target variable (credit = good). Implement a 80/20 training/test split. Use a regularization value of C = 1. Report the accuracy and TPR on the test set."
   ]
  },
  {
   "cell_type": "code",
   "execution_count": 111,
   "id": "1bef97c7-30a2-47ca-b463-666dfbfc1df0",
   "metadata": {},
   "outputs": [],
   "source": [
    "from sklearn.metrics import accuracy_score, confusion_matrix\n",
    "from sklearn.linear_model import LogisticRegression\n",
    "\n",
    "def tpr_fpr(y_true, y_pred):\n",
    "    # might be useful to fill this helper function\n",
    "    # feel free to ignore this though\n",
    "    conf_mat = confusion_matrix(y_true, y_pred)\n",
    "    tp = conf_mat[1][1]\n",
    "    fn = conf_mat[1][0]\n",
    "    tn = conf_mat[0][0]\n",
    "    fp = conf_mat[0][1]\n",
    "    tpr = tp/(tp+fn)\n",
    "    fpr = fp/(tn+fn)\n",
    "    return tpr, fpr\n",
    "\n",
    "german_credit = np.loadtxt('german.data-numeric')\n",
    "attrs = german_credit[:, :-1] \n",
    "labels = 2-german_credit[:, -1] # (1 = Good,  2 = Bad) -> (0=Bad, 1=good)\n",
    "\n",
    "#X_train, X_test, y_train, y_test = train_test_split(attrs, labels, test_size=0.20, random_state=42)\n",
    "X_train, X_test, y_train, y_test = attrs[:800], attrs[800:], labels[:800], labels[800:]\n",
    "\n",
    "reg = LogisticRegression(C = 1, max_iter=1000)\n",
    "reg.fit(X_train, y_train)\n",
    "y_pred = reg.predict(X_test)\n"
   ]
  },
  {
   "cell_type": "code",
   "execution_count": 112,
   "id": "5aadc95d",
   "metadata": {},
   "outputs": [
    {
     "data": {
      "text/plain": [
       "(0.79, 0.8848920863309353, 0.5098039215686274)"
      ]
     },
     "execution_count": 112,
     "metadata": {},
     "output_type": "execute_result"
    }
   ],
   "source": [
    "q5_acc = accuracy_score(y_true=y_test, y_pred=y_pred)\n",
    "q5_tpr, q5_fpr = tpr_fpr(y_true=y_test, y_pred=y_pred)\n",
    "q5_acc, q5_tpr, q5_fpr\n",
    "#(0.75, 0.8794326241134752, 0.7674418604651163)"
   ]
  },
  {
   "cell_type": "markdown",
   "id": "a2dca310-3cb2-445b-9cba-34424a785d24",
   "metadata": {},
   "source": [
    "For the following, treat “foreign worker” as the “sensitive attribute” i.e., z=1 for foreign workers and z=0 for others.\n",
    "\n",
    "- Report the TPR for Z=0 and Z=1."
   ]
  },
  {
   "cell_type": "code",
   "execution_count": 113,
   "id": "59d3562c",
   "metadata": {},
   "outputs": [
    {
     "data": {
      "text/plain": [
       "(0.8879310344827587, 0.8695652173913043)"
      ]
     },
     "execution_count": 113,
     "metadata": {},
     "output_type": "execute_result"
    }
   ],
   "source": [
    "z_0_index = X_test[:, 19] == 0\n",
    "z_1_index = X_test[:, 19] == 1\n",
    "z_0_TPR, _ = tpr_fpr(y_test[z_0_index], y_pred[z_0_index])\n",
    "z_1_TPR, _ = tpr_fpr(y_test[z_1_index], y_pred[z_1_index])\n",
    "\n",
    "z_0_TPR, z_1_TPR"
   ]
  },
  {
   "cell_type": "markdown",
   "id": "971cc9c2-a633-44e8-9c59-8cbdeb9a6798",
   "metadata": {},
   "source": [
    "- By changing the classifier thresholds, generate an ROC curve for your classifier. Report the TPR when the FPR is (as close as possible to) 0.8."
   ]
  },
  {
   "cell_type": "code",
   "execution_count": 114,
   "id": "6d9e2984-175a-4a84-8536-543a8d07e433",
   "metadata": {},
   "outputs": [],
   "source": [
    "from sklearn.metrics import roc_curve, auc"
   ]
  },
  {
   "cell_type": "code",
   "execution_count": 115,
   "id": "7c0c2572-08c7-4db5-a004-ae3f0bd0f4b3",
   "metadata": {},
   "outputs": [
    {
     "data": {
      "text/plain": [
       "[<matplotlib.lines.Line2D at 0x12ffd7390>]"
      ]
     },
     "execution_count": 115,
     "metadata": {},
     "output_type": "execute_result"
    },
    {
     "data": {
      "image/png": "[encoded data removed]",
      "text/plain": [
       "<Figure size 640x480 with 1 Axes>"
      ]
     },
     "metadata": {},
     "output_type": "display_data"
    }
   ],
   "source": [
    "import matplotlib.pyplot as plt\n",
    "fpr, tpr, thresholds = roc_curve(y_test, y_pred)\n",
    "fpr, tpr\n",
    "plt.plot(fpr, tpr, color = 'red')\n"
   ]
  },
  {
   "cell_type": "code",
   "execution_count": 116,
   "id": "0b266356-a992-4756-a286-f22271d166e0",
   "metadata": {},
   "outputs": [
    {
     "data": {
      "text/plain": [
       "0.96"
      ]
     },
     "execution_count": 116,
     "metadata": {},
     "output_type": "execute_result"
    }
   ],
   "source": [
    "q7_tpr = 0.96\n",
    "q7_tpr"
   ]
  },
  {
   "cell_type": "markdown",
   "id": "7e010a9e-ccc5-489a-8399-f047532a1c4a",
   "metadata": {},
   "source": [
    "- Use an instance weighting approach (this option is already available in the library implementation) to tune the model such that instances with z=0 have 5x the instance weight of instances with z=1. Report the TPR for Z=0 and Z=1."
   ]
  },
  {
   "cell_type": "code",
   "execution_count": 117,
   "id": "c2eacf1f",
   "metadata": {},
   "outputs": [],
   "source": [
    "sample_weight = np.where(X_train[:, 19] == 0, 5, 1)\n",
    "reg = LogisticRegression(max_iter=1000)\n",
    "reg.fit(X_train, y_train, sample_weight=sample_weight)\n",
    "y_pred_weighted = reg.predict(X_test)\n",
    "z_0_index = X_test[:, 19] == 0\n",
    "z_1_index = X_test[:, 19] == 1\n",
    "z_0_TPR_weighted, _ = tpr_fpr(y_test[z_0_index], y_pred_weighted[z_0_index])\n",
    "z_1_TPR_weighted, _ = tpr_fpr(y_test[z_1_index], y_pred_weighted[z_1_index])"
   ]
  },
  {
   "cell_type": "code",
   "execution_count": 118,
   "id": "27b186f8-3588-43df-9efc-94e96829a2e9",
   "metadata": {},
   "outputs": [
    {
     "data": {
      "text/plain": [
       "(0.8793103448275862, 0.6521739130434783)"
      ]
     },
     "execution_count": 118,
     "metadata": {},
     "output_type": "execute_result"
    }
   ],
   "source": [
    "z_0_TPR_weighted, z_1_TPR_weighted"
   ]
  },
  {
   "cell_type": "markdown",
   "id": "be55302f-7702-4b81-8dd9-709d61407c04",
   "metadata": {},
   "source": [
    "- (harder, 2 marks) Implement a support vector machine (using sklearn). Using your solution from question Q5, generate ROC curves for both the logistic regression model and the support vector machine. Find the point on this curve where the two models intersect, and report the corresponding TPR/FPR values."
   ]
  },
  {
   "cell_type": "code",
   "execution_count": 119,
   "id": "ea95a19f",
   "metadata": {},
   "outputs": [
    {
     "data": {
      "image/png": "[encoded data removed]",
      "text/plain": [
       "<Figure size 640x480 with 1 Axes>"
      ]
     },
     "metadata": {},
     "output_type": "display_data"
    }
   ],
   "source": [
    "from sklearn.svm import SVC\n",
    "\n",
    "svm = SVC(probability=True)\n",
    "svm.fit(X_train, y_train)\n",
    "svm_y_pred = svm.predict_proba(X_test)[:, 1]\n",
    "svm_fpr, svm_tpr, thresholds = roc_curve(y_test, svm_y_pred)\n",
    "\n",
    "\n",
    "reg = LogisticRegression(C = 1, max_iter=1000)\n",
    "reg.fit(X_train, y_train)\n",
    "reg_y_pred = reg.predict(X_test)\n",
    "reg_fpr, reg_tpr, thresholds = roc_curve(y_test, reg_y_pred)\n",
    "\n",
    "plt.figure()\n",
    "plt.plot(reg_fpr, reg_tpr, color = 'red')\n",
    "plt.plot(svm_fpr, svm_tpr, color = 'green')\n",
    "plt.xticks(np.arange(0, 1.1, 0.1))\n",
    "plt.yticks(np.arange(0, 1.1, 0.1))\n",
    "plt.grid(True)\n"
   ]
  },
  {
   "cell_type": "code",
   "execution_count": 120,
   "id": "48c113dd-7059-4fb2-978d-bc94d83ec877",
   "metadata": {},
   "outputs": [],
   "source": [
    "fpr_q9, tpr_q9 = 0.5, 0.9\n"
   ]
  },
  {
   "cell_type": "markdown",
   "id": "8b25819a-afcd-48be-9315-e4db6b98e2ed",
   "metadata": {},
   "source": [
    "## Answers"
   ]
  },
  {
   "cell_type": "code",
   "execution_count": 121,
   "id": "c81b36c0-49a7-4a85-bf98-5f180775b8c7",
   "metadata": {},
   "outputs": [
    {
     "data": {
      "text/plain": [
       "{'Q1': 76047.19578054463,\n",
       " 'Q2': [78496.18922226882, 64.2830186993766],\n",
       " 'Q3': 79035.51797861399,\n",
       " 'Q4': [80145.51353121246, 64.92864695269388],\n",
       " 'Q5': [0.79, 0.8848920863309353],\n",
       " 'Q6': [0.8879310344827587, 0.8695652173913043],\n",
       " 'Q7': 0.96,\n",
       " 'Q8': [0.8793103448275862, 0.6521739130434783],\n",
       " 'Q9': [0.9, 0.5]}"
      ]
     },
     "execution_count": 121,
     "metadata": {},
     "output_type": "execute_result"
    }
   ],
   "source": [
    "answers = {\n",
    "    \"Q1\": q1_mse,          # MSE\n",
    "    \"Q2\": [q2_mse, q2_mae], # MSE, MAE\n",
    "    \"Q3\": q3_mse,          # MSE\n",
    "    \"Q4\": [q4_mse, q4_mae], # MSE, MAE\n",
    "    \"Q5\": [q5_acc, q5_tpr], # Accuracy, TPR\n",
    "    \"Q6\": [z_0_TPR, z_1_TPR], # TPR_0, TPR_1\n",
    "    \"Q7\": q7_tpr,          # TPR\n",
    "    \"Q8\": [z_0_TPR_weighted, z_1_TPR_weighted], # TPR_0, TPR_1\n",
    "    \"Q9\": [tpr_q9, fpr_q9]  # TPR, FPR\n",
    "}\n",
    "\n",
    "answers"
   ]
  },
  {
   "cell_type": "code",
   "execution_count": 122,
   "id": "f2970c17-9917-4f37-af3b-fc65fca95f16",
   "metadata": {},
   "outputs": [],
   "source": [
    "import json \n",
    "with open('answers_hw1.txt', 'w') as file:\n",
    "    json.dump(answers, file)\n"
   ]
  },
  {
   "cell_type": "markdown",
   "id": "dad0dade",
   "metadata": {},
   "source": []
  }
 ],
 "metadata": {
  "kernelspec": {
   "display_name": "Python 3",
   "language": "python",
   "name": "python3"
  },
  "language_info": {
   "codemirror_mode": {
    "name": "ipython",
    "version": 3
   },
   "file_extension": ".py",
   "mimetype": "text/x-python",
   "name": "python",
   "nbconvert_exporter": "python",
   "pygments_lexer": "ipython3",
   "version": "3.11.7"
  }
 },
 "nbformat": 4,
 "nbformat_minor": 5
}
