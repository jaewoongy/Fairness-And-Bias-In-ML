{
 "cells": [
  {
   "cell_type": "code",
   "execution_count": null,
   "metadata": {
    "vscode": {
     "languageId": "plaintext"
    }
   },
   "outputs": [],
   "source": [
    "    from sklearn.linear_model import LogisticRegression\n",
    "\n",
    "    p_z_1 = np.mean(z_train == 1)  # P(z=1)\n",
    "    p_z_0 = np.mean(z_train == 0)  # P(z=0)\n",
    "    p_y_1 = np.mean(y_train == 1)  # P(y=1)\n",
    "    p_y_0 = np.mean(y_train == 0)  # P(y=0)\n",
    "    \n",
    "    p_z_1_y_1 = np.mean((z_train == 1) & (y_train == 1))  # P(z=1,y=1)\n",
    "    p_z_1_y_0 = np.mean((z_train == 1) & (y_train == 0))  # P(z=1,y=0)\n",
    "    p_z_0_y_1 = np.mean((z_train == 0) & (y_train == 1))  # P(z=0,y=1)\n",
    "    p_z_0_y_0 = np.mean((z_train == 0) & (y_train == 0))  # P(z=0,y=0)\n",
    "    \n",
    "    weights = np.ones(len(y_train))\n",
    "    \n",
    "    weights[(z_train == 1) & (y_train == 1)] = p_y_1 * p_z_1 / max(p_z_1_y_1, 1e-10)\n",
    "    weights[(z_train == 1) & (y_train == 0)] = p_y_0 * p_z_1 / max(p_z_1_y_0, 1e-10)\n",
    "    weights[(z_train == 0) & (y_train == 1)] = p_y_1 * p_z_0 / max(p_z_0_y_1, 1e-10)\n",
    "    weights[(z_train == 0) & (y_train == 0)] = p_y_0 * p_z_0 / max(p_z_0_y_0, 1e-10)\n",
    "    \n",
    "    weights = weights / np.mean(weights)\n",
    "    \n",
    "    model = LogisticRegression(C=1.0, max_iter=1000, random_state=42)\n",
    "    model.fit(X_train, y_train, sample_weight=weights)\n",
    "\n",
    "    return model"
   ]
  }
 ],
 "metadata": {
  "language_info": {
   "name": "python"
  }
 },
 "nbformat": 4,
 "nbformat_minor": 2
}
