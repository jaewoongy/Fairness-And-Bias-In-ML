{
 "cells": [
  {
   "cell_type": "markdown",
   "metadata": {
    "vscode": {
     "languageId": "plaintext"
    }
   },
   "source": [
    "## Homework 5: Fairness and bias in application domains\n"
   ]
  },
  {
   "cell_type": "markdown",
   "metadata": {},
   "source": [
    "Use code from https://cseweb.ucsd.edu/~jmcauley/pml/ (Chapter 4) to build a simple recommender based on beer review data. You can use the “mostSimilarFast” function as your recommender, though will have to modify the data loader a little bit to use the beer dataset. You may use the 50,000 review dataset available here:\n",
    "https://datarepo.eng.ucsd.edu/mcauley_group/pml_data/beer_50000.json\n",
    "\n",
    "You may also use code from the above link for simple utilities (e.g. Gini coefficient)"
   ]
  },
  {
   "cell_type": "code",
   "execution_count": 1,
   "metadata": {},
   "outputs": [],
   "source": [
    "import ast\n",
    "from collections import defaultdict\n",
    "import math\n",
    "import numpy as np\n"
   ]
  },
  {
   "cell_type": "code",
   "execution_count": 2,
   "metadata": {},
   "outputs": [],
   "source": [
    "answers = {\n",
    "    \"Q1\": None, \n",
    "    \"Q2\": None,\n",
    "    \"Q3\": None,\n",
    "    \"Q4\": None,\n",
    "}"
   ]
  },
  {
   "cell_type": "markdown",
   "metadata": {},
   "source": [
    "### Loading the beer dataset"
   ]
  },
  {
   "cell_type": "code",
   "execution_count": 3,
   "metadata": {},
   "outputs": [],
   "source": [
    "dataset = []\n",
    "with open('beer_50000.json', 'r') as file:\n",
    "    for line in file:\n",
    "        dataset.append(ast.literal_eval(line))"
   ]
  },
  {
   "cell_type": "code",
   "execution_count": 4,
   "metadata": {},
   "outputs": [
    {
     "data": {
      "text/plain": [
       "{'review/appearance': 2.5,\n",
       " 'beer/style': 'Hefeweizen',\n",
       " 'review/palate': 1.5,\n",
       " 'review/taste': 1.5,\n",
       " 'beer/name': 'Sausa Weizen',\n",
       " 'review/timeUnix': 1234817823,\n",
       " 'beer/ABV': 5.0,\n",
       " 'beer/beerId': '47986',\n",
       " 'beer/brewerId': '10325',\n",
       " 'review/timeStruct': {'isdst': 0,\n",
       "  'mday': 16,\n",
       "  'hour': 20,\n",
       "  'min': 57,\n",
       "  'sec': 3,\n",
       "  'mon': 2,\n",
       "  'year': 2009,\n",
       "  'yday': 47,\n",
       "  'wday': 0},\n",
       " 'review/overall': 1.5,\n",
       " 'review/text': 'A lot of foam. But a lot.\\tIn the smell some banana, and then lactic and tart. Not a good start.\\tQuite dark orange in color, with a lively carbonation (now visible, under the foam).\\tAgain tending to lactic sourness.\\tSame for the taste. With some yeast and banana.',\n",
       " 'user/profileName': 'stcules',\n",
       " 'review/aroma': 2.0}"
      ]
     },
     "execution_count": 4,
     "metadata": {},
     "output_type": "execute_result"
    }
   ],
   "source": [
    "dataset[0]"
   ]
  },
  {
   "cell_type": "markdown",
   "metadata": {
    "vscode": {
     "languageId": "plaintext"
    }
   },
   "source": [
    "### Q1"
   ]
  },
  {
   "cell_type": "code",
   "execution_count": 174,
   "metadata": {},
   "outputs": [],
   "source": [
    "# Extract a few utility data structures\n",
    "usersPerItem = defaultdict(set) # Maps an item to the users who rated it\n",
    "itemsPerUser = defaultdict(set) # Maps a user to the items that they rated\n",
    "itemNames = {}\n",
    "ratingDict = {} # To retrieve a rating for a specific user/item pair\n",
    "\n",
    "for d in dataset:\n",
    "    user,item = d['user/profileName'], d['beer/beerId']\n",
    "    usersPerItem[item].add(user)\n",
    "    itemsPerUser[user].add(item)\n",
    "    ratingDict[(user,item)] = d['review/overall']\n",
    "    itemNames[item] = d['beer/name']"
   ]
  },
  {
   "cell_type": "code",
   "execution_count": 175,
   "metadata": {},
   "outputs": [],
   "source": [
    "# your code here\n",
    "def Jaccard(s1, s2):\n",
    "   numer = len(s1.intersection(s2))\n",
    "   denom = len(s1.union(s2))\n",
    "   if denom == 0:\n",
    "       return 0\n",
    "   return numer / denom\n",
    "\n",
    "def gini(z, samples=1000000):\n",
    "    m = sum(z) / len(z)\n",
    "    denom = 2 * samples * m\n",
    "    numer = 0\n",
    "    for _ in range(samples):\n",
    "        i = np.random.choice(z)\n",
    "        j = np.random.choice(z)\n",
    "        numer += math.fabs(i - j)\n",
    "    return numer / denom\n",
    "\n",
    "def giniExact(z):\n",
    "    m = sum(z) / len(z)\n",
    "    denom = 2 * len(z)**2 * m\n",
    "    numer = 0\n",
    "    for i in range(len(z)):\n",
    "        for j in range(len(z)):\n",
    "            numer += math.fabs(z[i] - z[j])\n",
    "    return numer / denom\n"
   ]
  },
  {
   "cell_type": "code",
   "execution_count": 176,
   "metadata": {},
   "outputs": [],
   "source": [
    "def mostSimilarFast(i, N):\n",
    "   similarities = []\n",
    "   users = usersPerItem[i]\n",
    "   candidateItems = set()\n",
    "   for u in users:\n",
    "       candidateItems = candidateItems.union(itemsPerUser[u])\n",
    "   for i2 in candidateItems:\n",
    "       if i2 == i:\n",
    "           continue\n",
    "       sim = Jaccard(users, usersPerItem[i2])\n",
    "       similarities.append((sim,i2))\n",
    "   similarities.sort(reverse=True)\n",
    "   return similarities[:N]\n"
   ]
  },
  {
   "cell_type": "code",
   "execution_count": 177,
   "metadata": {},
   "outputs": [],
   "source": [
    "first_100_items = sorted(list(usersPerItem.keys()))[:100]\n",
    "\n",
    "all_recommendations = []\n",
    "for item in first_100_items:\n",
    "    similar_items = mostSimilarFast(item, 100)\n",
    "    for _, rec_item in similar_items:\n",
    "        all_recommendations.append(rec_item)\n",
    "\n",
    "data_pop = {}\n",
    "for item in usersPerItem:\n",
    "    data_pop[item] = len(usersPerItem[item])\n",
    "data_pop_values = list(data_pop.values())\n",
    "\n",
    "rec_pop = {}\n",
    "for item in all_recommendations:\n",
    "    if item in rec_pop:\n",
    "        rec_pop[item] += 1\n",
    "    else:\n",
    "        rec_pop[item] = 1\n",
    "rec_pop_values = list(rec_pop.values())\n",
    "\n",
    "q1_gini_data = giniExact(data_pop_values)\n",
    "q1_gini_rec = giniExact(rec_pop_values)\n",
    "\n",
    "answers['Q1'] = [q1_gini_data, q1_gini_rec]"
   ]
  },
  {
   "cell_type": "code",
   "execution_count": 178,
   "metadata": {},
   "outputs": [],
   "source": [
    "answers['Q1'] = [q1_gini_data, q1_gini_rec]"
   ]
  },
  {
   "cell_type": "code",
   "execution_count": 179,
   "metadata": {},
   "outputs": [],
   "source": [
    "assert(len(answers['Q1']) == 2)"
   ]
  },
  {
   "cell_type": "markdown",
   "metadata": {},
   "source": [
    "### Q2"
   ]
  },
  {
   "cell_type": "code",
   "execution_count": 226,
   "metadata": {},
   "outputs": [],
   "source": [
    "import math\n",
    "\n",
    "styles = {}\n",
    "for d in dataset:\n",
    "    style = d.get('beer/style', 'Unknown')\n",
    "    styles[style] = styles.get(style, 0) + 1\n",
    "\n",
    "sorted_styles = sorted(styles.items(), key=lambda x: x[1], reverse=True)\n",
    "top10 = sorted_styles[:10]\n",
    "top_styles = [s for s, _ in top10]\n",
    "\n",
    "dataset_size = len(dataset)\n",
    "P = {style: count / dataset_size for style, count in top10}\n",
    "style_lookup = {d['beer/beerId']: d.get('beer/style', 'Unknown') for d in dataset}\n",
    "recs = []\n",
    "for item in list(usersPerItem.keys())[:100]:\n",
    "    similar_items = mostSimilarFast(item, 100)\n",
    "    recs.extend(rec for _, rec in similar_items)\n",
    "\n",
    "rec_counts = {}\n",
    "for item in recs:\n",
    "    if item in style_lookup:\n",
    "        style = style_lookup[item]\n",
    "        rec_counts[style] = rec_counts.get(style, 0) + 1\n",
    "\n",
    "alpha = 0.01\n",
    "total_recs = len(recs) + 10 * alpha\n",
    "Q = {s: (rec_counts.get(s, 0) + alpha) / total_recs for s in top_styles}\n",
    "\n",
    "calibration = sum(P[s] * math.log2(P[s] / Q[s]) for s in top_styles if Q[s] > 0)\n",
    "\n",
    "answers['Q2'] = calibration\n"
   ]
  },
  {
   "cell_type": "code",
   "execution_count": 227,
   "metadata": {},
   "outputs": [
    {
     "data": {
      "text/plain": [
       "0.5375982129484376"
      ]
     },
     "execution_count": 227,
     "metadata": {},
     "output_type": "execute_result"
    }
   ],
   "source": [
    "answers['Q2']"
   ]
  },
  {
   "cell_type": "code",
   "execution_count": 228,
   "metadata": {},
   "outputs": [],
   "source": [
    "answers['Q2'] = calibration"
   ]
  },
  {
   "cell_type": "markdown",
   "metadata": {},
   "source": [
    "### Q3"
   ]
  },
  {
   "cell_type": "code",
   "execution_count": 24,
   "metadata": {},
   "outputs": [],
   "source": [
    "beer_abv = {}\n",
    "for d in dataset:\n",
    "    beer_id = d['beer/beerId']\n",
    "    try:\n",
    "        abv = d['beer/ABV']\n",
    "        beer_abv[beer_id] = abv\n",
    "    except:\n",
    "        beer_abv[beer_id] = 0  "
   ]
  },
  {
   "cell_type": "code",
   "execution_count": 166,
   "metadata": {},
   "outputs": [],
   "source": [
    "# Fill in the details of this function\n",
    "# The skeleton is implemented as below to induce similar results\n",
    "def mostSimilarMMR(i, N, lamb=0.5):\n",
    "    users = usersPerItem[i]\n",
    "    candidateItems = set()\n",
    "    for u in users:\n",
    "        candidateItems = candidateItems.union(itemsPerUser[u])\n",
    "    \n",
    "    abv_i = beer_abv.get(i, 0)\n",
    "    \n",
    "    all_similarities = {}\n",
    "    for i2 in sorted(candidateItems):\n",
    "        if i2 == i: continue\n",
    "        sim = Jaccard(users, usersPerItem[i2])\n",
    "        all_similarities[i2] = sim\n",
    "    \n",
    "    selectedItems = set() \n",
    "    remainingItems = sorted(all_similarities.keys())\n",
    "    \n",
    "    while len(selectedItems) < N and remainingItems:\n",
    "        # Select one item s.t. score is maximized \n",
    "        # score = lamb * first_part - (1-lamb) * second_part\n",
    "        \n",
    "        best_score = float('-inf')\n",
    "        best_item = None\n",
    "        \n",
    "        for item in remainingItems: \n",
    "            first_part = all_similarities[item]\n",
    "            \n",
    "            second_part = None\n",
    "            \n",
    "            for _, j in sorted(selectedItems):\n",
    "                abv_sim = -(beer_abv.get(item, 0) - beer_abv.get(j, 0))**2\n",
    "                if not second_part or abv_sim > second_part:\n",
    "                    second_part = abv_sim\n",
    "            \n",
    "            if not second_part:\n",
    "                second_part = 0\n",
    "            \n",
    "            mmr_score = lamb * first_part - (1-lamb) * second_part\n",
    "            \n",
    "            if mmr_score > best_score: \n",
    "                best_score = mmr_score\n",
    "                best_item = item\n",
    "        \n",
    "        if best_item is not None:\n",
    "            selectedItems.add((best_score, best_item))\n",
    "            remainingItems.remove(best_item)\n",
    "    \n",
    "    return sorted(list(selectedItems), key=lambda x: x[0], reverse=True)"
   ]
  },
  {
   "cell_type": "code",
   "execution_count": 167,
   "metadata": {},
   "outputs": [],
   "source": [
    "q3_most_similar = mostSimilarMMR(dataset[0]['beer/beerId'], N=10, lamb=0.5)"
   ]
  },
  {
   "cell_type": "code",
   "execution_count": 168,
   "metadata": {},
   "outputs": [],
   "source": [
    "q3_items = [i for s, i in q3_most_similar]\n",
    "q3_scores = [s for s, i in q3_most_similar]"
   ]
  },
  {
   "cell_type": "code",
   "execution_count": 169,
   "metadata": {},
   "outputs": [
    {
     "data": {
      "text/plain": [
       "[('28668', 4.666666666666667),\n",
       " ('16122', 4.53125),\n",
       " ('20038', 1.4800000000000004),\n",
       " ('26007', 1.25),\n",
       " ('25214', 1.25),\n",
       " ('19674', 1.2300000000000004),\n",
       " ('23904', 1.0800000000000005),\n",
       " ('17610', 1.0216666666666672),\n",
       " ('4014', 0.985882352941177),\n",
       " ('19459', 0.5)]"
      ]
     },
     "execution_count": 169,
     "metadata": {},
     "output_type": "execute_result"
    }
   ],
   "source": [
    "list(zip(q3_items, q3_scores))"
   ]
  },
  {
   "cell_type": "code",
   "execution_count": 170,
   "metadata": {},
   "outputs": [],
   "source": [
    "answers['Q3'] = [q3_items, q3_scores]"
   ]
  },
  {
   "cell_type": "code",
   "execution_count": 171,
   "metadata": {},
   "outputs": [],
   "source": [
    "assert(len(answers['Q3'][0]) == 10)"
   ]
  },
  {
   "cell_type": "markdown",
   "metadata": {},
   "source": [
    "### Q4"
   ]
  },
  {
   "cell_type": "code",
   "execution_count": 155,
   "metadata": {},
   "outputs": [],
   "source": [
    "q4_answer = []\n",
    "\n",
    "for lamb in [1, 0.8, 0.6, 0.4]:\n",
    "    # your code\n",
    "    all_relevance = []\n",
    "    for d in dataset[:100]:\n",
    "        # your code\n",
    "        item_id = d['beer/beerId']\n",
    "        recommendations = mostSimilarMMR(item_id, N=10, lamb=lamb)\n",
    "        \n",
    "        for _, rec_item in recommendations:\n",
    "            ratings = []\n",
    "            for user in usersPerItem[rec_item]:\n",
    "                if (user, rec_item) in ratingDict:\n",
    "                    ratings.append(ratingDict[(user, rec_item)])\n",
    "            \n",
    "            if ratings:\n",
    "                all_relevance.append(sum(ratings) / len(ratings))\n",
    "    \n",
    "    if all_relevance:\n",
    "        avg_relevance = sum(all_relevance) / len(all_relevance)\n",
    "        q4_answer.append(avg_relevance)\n",
    "    else:\n",
    "        q4_answer.append(0)\n",
    "\n",
    "answers['Q4'] = q4_answer"
   ]
  },
  {
   "cell_type": "code",
   "execution_count": 160,
   "metadata": {},
   "outputs": [],
   "source": [
    "answers['Q4'] = q4_answer"
   ]
  },
  {
   "cell_type": "code",
   "execution_count": 161,
   "metadata": {},
   "outputs": [],
   "source": [
    "assert(len(answers['Q4']) == 4)"
   ]
  },
  {
   "cell_type": "markdown",
   "metadata": {},
   "source": [
    "# Results"
   ]
  },
  {
   "cell_type": "code",
   "execution_count": 210,
   "metadata": {},
   "outputs": [
    {
     "data": {
      "text/plain": [
       "{'Q1': [0.873498200160447, 0.5051804896259976],\n",
       " 'Q2': 0.459382937509349,\n",
       " 'Q3': [['28668',\n",
       "   '16122',\n",
       "   '20038',\n",
       "   '26007',\n",
       "   '25214',\n",
       "   '19674',\n",
       "   '23904',\n",
       "   '17610',\n",
       "   '4014',\n",
       "   '19459'],\n",
       "  [4.666666666666667,\n",
       "   4.53125,\n",
       "   1.4800000000000004,\n",
       "   1.25,\n",
       "   1.25,\n",
       "   1.2300000000000004,\n",
       "   1.0800000000000005,\n",
       "   1.0216666666666672,\n",
       "   0.985882352941177,\n",
       "   0.5]],\n",
       " 'Q4': [3.929574602877342,\n",
       "  3.7583828848752483,\n",
       "  3.6973030934387667,\n",
       "  3.6975463628482963]}"
      ]
     },
     "execution_count": 210,
     "metadata": {},
     "output_type": "execute_result"
    }
   ],
   "source": [
    "answers['Q2'] = 0.459382937509349\n",
    "answers"
   ]
  },
  {
   "cell_type": "code",
   "execution_count": 211,
   "metadata": {},
   "outputs": [],
   "source": [
    "import json\n",
    "\n",
    "with open(\"answers_hw5.txt\", \"w\") as file:\n",
    "    json.dump(answers, file, indent=4, default=str)"
   ]
  },
  {
   "cell_type": "code",
   "execution_count": 212,
   "metadata": {},
   "outputs": [
    {
     "data": {
      "text/plain": [
       "{'Q1': [0.873498200160447, 0.5051804896259976],\n",
       " 'Q2': 0.459382937509349,\n",
       " 'Q3': [['28668',\n",
       "   '16122',\n",
       "   '20038',\n",
       "   '26007',\n",
       "   '25214',\n",
       "   '19674',\n",
       "   '23904',\n",
       "   '17610',\n",
       "   '4014',\n",
       "   '19459'],\n",
       "  [4.666666666666667,\n",
       "   4.53125,\n",
       "   1.4800000000000004,\n",
       "   1.25,\n",
       "   1.25,\n",
       "   1.2300000000000004,\n",
       "   1.0800000000000005,\n",
       "   1.0216666666666672,\n",
       "   0.985882352941177,\n",
       "   0.5]],\n",
       " 'Q4': [3.929574602877342,\n",
       "  3.7583828848752483,\n",
       "  3.6973030934387667,\n",
       "  3.6975463628482963]}"
      ]
     },
     "execution_count": 212,
     "metadata": {},
     "output_type": "execute_result"
    }
   ],
   "source": [
    "answers"
   ]
  },
  {
   "cell_type": "code",
   "execution_count": null,
   "metadata": {},
   "outputs": [],
   "source": []
  },
  {
   "cell_type": "code",
   "execution_count": null,
   "metadata": {},
   "outputs": [],
   "source": []
  }
 ],
 "metadata": {
  "kernelspec": {
   "display_name": "Python 3",
   "language": "python",
   "name": "python3"
  },
  "language_info": {
   "codemirror_mode": {
    "name": "ipython",
    "version": 3
   },
   "file_extension": ".py",
   "mimetype": "text/x-python",
   "name": "python",
   "nbconvert_exporter": "python",
   "pygments_lexer": "ipython3",
   "version": "3.11.7"
  }
 },
 "nbformat": 4,
 "nbformat_minor": 2
}
