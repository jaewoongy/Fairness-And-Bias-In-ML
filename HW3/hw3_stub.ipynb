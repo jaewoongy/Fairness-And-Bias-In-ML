{
 "cells": [
  {
   "cell_type": "markdown",
   "id": "42df8800-44dc-4bb4-ac8c-a67a738b1b73",
   "metadata": {},
   "source": [
    "## HW 3: Fairness and Bias Interventions"
   ]
  },
  {
   "cell_type": "markdown",
   "id": "980e0ff3-f69a-4c78-887e-853b79d8ebfd",
   "metadata": {},
   "source": [
    "## Download the dataset\n",
    "\n",
    "1. Go to the [Adult Dataset webpage](https://archive.ics.uci.edu/dataset/2/adult).\n",
    "2. Download and unzip the file in the same directory as this notebook."
   ]
  },
  {
   "cell_type": "code",
   "execution_count": 1,
   "id": "308097ce-6488-4edf-9412-5cfd370a2d67",
   "metadata": {},
   "outputs": [],
   "source": [
    "# TODO: download\n",
    "from sklearn.linear_model import LogisticRegression\n",
    "from sklearn.model_selection import train_test_split\n",
    "import math\n",
    "\n",
    "import numpy as np"
   ]
  },
  {
   "cell_type": "code",
   "execution_count": 2,
   "id": "c17d6755-e6e0-4ffc-b8c7-6c7569c61eb2",
   "metadata": {},
   "outputs": [],
   "source": [
    "## DATA LOADING ##\n",
    "header = [\"age\",\n",
    "          \"workclass\",\n",
    "          \"fnlwgt\",\n",
    "          \"education\",\n",
    "          \"education-num\",\n",
    "          \"marital-status\",\n",
    "          \"occupation\",\n",
    "          \"relationship\",\n",
    "          \"race\",\n",
    "          \"sex\",\n",
    "          \"capital-gain\",\n",
    "          \"capital-loss\",\n",
    "          \"hours-per-week\",\n",
    "          \"native-country\"]\n",
    "\n",
    "values = {\"workclass\": [\"Private\", \"Self-emp-not-inc\", \"Self-emp-inc\", \"Federal-gov\", \"Local-gov\", \"State-gov\", \"Without-pay\", \"Never-worked\"],\n",
    "          \"education\": [\"Bachelors\", \"Some-college\", \"11th\", \"HS-grad\", \"Prof-school\", \"Assoc-acdm\", \"Assoc-voc\", \"9th\", \"7th-8th\", \"12th\", \"Masters\", \"1st-4th\", \"10th\", \"Doctorate\", \"5th-6th\", \"Preschool\"],\n",
    "          \"marital-status\": [\"Married-civ-spouse\", \"Divorced\", \"Never-married\", \"Separated\", \"Widowed\", \"Married-spouse-absent\", \"Married-AF-spouse\"],\n",
    "          \"occupation\": [\"Tech-support\", \"Craft-repair\", \"Other-service\", \"Sales\", \"Exec-managerial\", \"Prof-specialty\", \"Handlers-cleaners\", \"Machine-op-inspct\", \"Adm-clerical\", \"Farming-fishing\", \"Transport-moving\", \"Priv-house-serv\", \"Protective-serv\", \"Armed-Forces\"],\n",
    "          \"relationship\": [\"Wife\", \"Own-child\", \"Husband\", \"Not-in-family\", \"Other-relative\", \"Unmarried\"],\n",
    "          \"race\": [\"White\", \"Asian-Pac-Islander\", \"Amer-Indian-Eskimo\", \"Other\", \"Black\"],\n",
    "          \"sex\": [\"Female\", \"Male\"],\n",
    "          \"native-country\": [\"United-States\", \"Cambodia\", \"England\", \"Puerto-Rico\", \"Canada\", \"Germany\", \"Outlying-US(Guam-USVI-etc)\", \"India\", \"Japan\", \"Greece\", \"South\", \"China\", \"Cuba\", \"Iran\", \"Honduras\", \"Philippines\", \"Italy\", \"Poland\", \"Jamaica\", \"Vietnam\", \"Mexico\", \"Portugal\", \"Ireland\", \"France\", \"Dominican-Republic\", \"Laos\", \"Ecuador\", \"Taiwan\", \"Haiti\", \"Columbia\", \"Hungary\", \"Guatemala\", \"Nicaragua\", \"Scotland\", \"Thailand\", \"Yugoslavia\", \"El-Salvador\", \"Trinadad&Tobago\", \"Peru\", \"Hong\", \"Holand-Netherlands\"]\n",
    "         }"
   ]
  },
  {
   "cell_type": "code",
   "execution_count": 3,
   "id": "daac1538-2dab-43a6-abe4-d2009e61cff9",
   "metadata": {},
   "outputs": [],
   "source": [
    "def feat(d):\n",
    "    f = [1]\n",
    "    for h in header:\n",
    "        if h in values:\n",
    "            onehot = [0]*len(values[h])\n",
    "            try:\n",
    "                onehot[values[h].index(d[h])] = 1 # not efficient! Should make an index\n",
    "            except Exception as e:\n",
    "                # Missing value\n",
    "                pass\n",
    "            f += onehot\n",
    "        else: # continuous\n",
    "            try:\n",
    "                f.append(float(d[h]))\n",
    "            except Exception as e:\n",
    "                # Missing value\n",
    "                f.append(0) # Replacing with zero probably not perfect!\n",
    "    return f"
   ]
  },
  {
   "cell_type": "code",
   "execution_count": 23,
   "id": "8a3015d2-d13a-41e6-bbb8-7102db1dbde9",
   "metadata": {},
   "outputs": [],
   "source": [
    "dataset = []\n",
    "labels = []\n",
    "a = open(\"adult.data\", 'r')\n",
    "for l in a:\n",
    "    if len(l) <= 1: break # Last line of the dataset is empty\n",
    "    l = l.split(\", \") # Could use a csv library but probably no need to here\n",
    "    dataset.append(dict(zip(header, l)))\n",
    "    labels.append(l[-1].strip()) # Last entry in each row is the label\n",
    "\n",
    "X = [feat(d) for d in dataset]\n",
    "y = [inc == '>50K' for inc in labels]\n",
    "\n",
    "X_train, X_test, y_train, y_test, d_train, d_test = train_test_split(X, y, dataset, test_size=0.2, random_state=42)"
   ]
  },
  {
   "cell_type": "code",
   "execution_count": 29,
   "id": "7810e22e",
   "metadata": {},
   "outputs": [
    {
     "name": "stdout",
     "output_type": "stream",
     "text": [
      "[1, 33.0, 0, 0, 0, 0, 1, 0, 0, 0, 198183.0, 1, 0, 0, 0, 0, 0, 0, 0, 0, 0, 0, 0, 0, 0, 0, 0, 13.0, 0, 0, 1, 0, 0, 0, 0, 0, 0, 0, 0, 0, 1, 0, 0, 0, 0, 0, 0, 0, 0, 0, 0, 0, 1, 0, 0, 1, 0, 0, 0, 0, 1, 0, 0.0, 0.0, 50.0, 1, 0, 0, 0, 0, 0, 0, 0, 0, 0, 0, 0, 0, 0, 0, 0, 0, 0, 0, 0, 0, 0, 0, 0, 0, 0, 0, 0, 0, 0, 0, 0, 0, 0, 0, 0, 0, 0, 0, 0, 0]\n",
      "True\n",
      "{'age': '33', 'workclass': 'Local-gov', 'fnlwgt': '198183', 'education': 'Bachelors', 'education-num': '13', 'marital-status': 'Never-married', 'occupation': 'Prof-specialty', 'relationship': 'Not-in-family', 'race': 'White', 'sex': 'Female', 'capital-gain': '0', 'capital-loss': '0', 'hours-per-week': '50', 'native-country': 'United-States'}\n"
     ]
    }
   ],
   "source": [
    "len(X), len(X_train), len(X_test), len(d_train), len(d_test)\n",
    "\n",
    "print(X_train[0])\n",
    "print(y_train[0])\n",
    "print(d_train[0])"
   ]
  },
  {
   "cell_type": "code",
   "execution_count": 5,
   "id": "bd9f0ebd-e71b-4944-bdb9-a67cdc4768fd",
   "metadata": {},
   "outputs": [],
   "source": [
    "answers = {}"
   ]
  },
  {
   "cell_type": "markdown",
   "id": "bfa56d1b-fa6f-4b2e-8b92-1b68ca1a0ad4",
   "metadata": {},
   "source": [
    "## 3.1\n",
    "\n",
    "#### (1 point)\n",
    "\n",
    "Implement a logistic regression classification pipeline using an `80/20` test split. Use a regularization value of $C = 1$.\n",
    "\n",
    "Treat “sex” as the “sensitive attribute” i.e., $z=1$ for females and $z=0$ for others.\n",
    "\n",
    "**Report:** The discrimination in the dataset (see \"pre-processing\" module)."
   ]
  },
  {
   "cell_type": "code",
   "execution_count": 41,
   "id": "656250c8",
   "metadata": {},
   "outputs": [
    {
     "name": "stderr",
     "output_type": "stream",
     "text": [
      "/Applications/anaconda3/lib/python3.11/site-packages/sklearn/linear_model/_logistic.py:465: ConvergenceWarning: lbfgs failed to converge (status=1):\n",
      "STOP: TOTAL NO. of ITERATIONS REACHED LIMIT.\n",
      "\n",
      "Increase the number of iterations (max_iter) or scale the data as shown in:\n",
      "    https://scikit-learn.org/stable/modules/preprocessing.html\n",
      "Please also refer to the documentation for alternative solver options:\n",
      "    https://scikit-learn.org/stable/modules/linear_model.html#logistic-regression\n",
      "  n_iter_i = _check_optimize_result(\n"
     ]
    },
    {
     "data": {
      "text/html": [
       "<style>#sk-container-id-1 {\n",
       "  /* Definition of color scheme common for light and dark mode */\n",
       "  --sklearn-color-text: #000;\n",
       "  --sklearn-color-text-muted: #666;\n",
       "  --sklearn-color-line: gray;\n",
       "  /* Definition of color scheme for unfitted estimators */\n",
       "  --sklearn-color-unfitted-level-0: #fff5e6;\n",
       "  --sklearn-color-unfitted-level-1: #f6e4d2;\n",
       "  --sklearn-color-unfitted-level-2: #ffe0b3;\n",
       "  --sklearn-color-unfitted-level-3: chocolate;\n",
       "  /* Definition of color scheme for fitted estimators */\n",
       "  --sklearn-color-fitted-level-0: #f0f8ff;\n",
       "  --sklearn-color-fitted-level-1: #d4ebff;\n",
       "  --sklearn-color-fitted-level-2: #b3dbfd;\n",
       "  --sklearn-color-fitted-level-3: cornflowerblue;\n",
       "\n",
       "  /* Specific color for light theme */\n",
       "  --sklearn-color-text-on-default-background: var(--sg-text-color, var(--theme-code-foreground, var(--jp-content-font-color1, black)));\n",
       "  --sklearn-color-background: var(--sg-background-color, var(--theme-background, var(--jp-layout-color0, white)));\n",
       "  --sklearn-color-border-box: var(--sg-text-color, var(--theme-code-foreground, var(--jp-content-font-color1, black)));\n",
       "  --sklearn-color-icon: #696969;\n",
       "\n",
       "  @media (prefers-color-scheme: dark) {\n",
       "    /* Redefinition of color scheme for dark theme */\n",
       "    --sklearn-color-text-on-default-background: var(--sg-text-color, var(--theme-code-foreground, var(--jp-content-font-color1, white)));\n",
       "    --sklearn-color-background: var(--sg-background-color, var(--theme-background, var(--jp-layout-color0, #111)));\n",
       "    --sklearn-color-border-box: var(--sg-text-color, var(--theme-code-foreground, var(--jp-content-font-color1, white)));\n",
       "    --sklearn-color-icon: #878787;\n",
       "  }\n",
       "}\n",
       "\n",
       "#sk-container-id-1 {\n",
       "  color: var(--sklearn-color-text);\n",
       "}\n",
       "\n",
       "#sk-container-id-1 pre {\n",
       "  padding: 0;\n",
       "}\n",
       "\n",
       "#sk-container-id-1 input.sk-hidden--visually {\n",
       "  border: 0;\n",
       "  clip: rect(1px 1px 1px 1px);\n",
       "  clip: rect(1px, 1px, 1px, 1px);\n",
       "  height: 1px;\n",
       "  margin: -1px;\n",
       "  overflow: hidden;\n",
       "  padding: 0;\n",
       "  position: absolute;\n",
       "  width: 1px;\n",
       "}\n",
       "\n",
       "#sk-container-id-1 div.sk-dashed-wrapped {\n",
       "  border: 1px dashed var(--sklearn-color-line);\n",
       "  margin: 0 0.4em 0.5em 0.4em;\n",
       "  box-sizing: border-box;\n",
       "  padding-bottom: 0.4em;\n",
       "  background-color: var(--sklearn-color-background);\n",
       "}\n",
       "\n",
       "#sk-container-id-1 div.sk-container {\n",
       "  /* jupyter's `normalize.less` sets `[hidden] { display: none; }`\n",
       "     but bootstrap.min.css set `[hidden] { display: none !important; }`\n",
       "     so we also need the `!important` here to be able to override the\n",
       "     default hidden behavior on the sphinx rendered scikit-learn.org.\n",
       "     See: https://github.com/scikit-learn/scikit-learn/issues/21755 */\n",
       "  display: inline-block !important;\n",
       "  position: relative;\n",
       "}\n",
       "\n",
       "#sk-container-id-1 div.sk-text-repr-fallback {\n",
       "  display: none;\n",
       "}\n",
       "\n",
       "div.sk-parallel-item,\n",
       "div.sk-serial,\n",
       "div.sk-item {\n",
       "  /* draw centered vertical line to link estimators */\n",
       "  background-image: linear-gradient(var(--sklearn-color-text-on-default-background), var(--sklearn-color-text-on-default-background));\n",
       "  background-size: 2px 100%;\n",
       "  background-repeat: no-repeat;\n",
       "  background-position: center center;\n",
       "}\n",
       "\n",
       "/* Parallel-specific style estimator block */\n",
       "\n",
       "#sk-container-id-1 div.sk-parallel-item::after {\n",
       "  content: \"\";\n",
       "  width: 100%;\n",
       "  border-bottom: 2px solid var(--sklearn-color-text-on-default-background);\n",
       "  flex-grow: 1;\n",
       "}\n",
       "\n",
       "#sk-container-id-1 div.sk-parallel {\n",
       "  display: flex;\n",
       "  align-items: stretch;\n",
       "  justify-content: center;\n",
       "  background-color: var(--sklearn-color-background);\n",
       "  position: relative;\n",
       "}\n",
       "\n",
       "#sk-container-id-1 div.sk-parallel-item {\n",
       "  display: flex;\n",
       "  flex-direction: column;\n",
       "}\n",
       "\n",
       "#sk-container-id-1 div.sk-parallel-item:first-child::after {\n",
       "  align-self: flex-end;\n",
       "  width: 50%;\n",
       "}\n",
       "\n",
       "#sk-container-id-1 div.sk-parallel-item:last-child::after {\n",
       "  align-self: flex-start;\n",
       "  width: 50%;\n",
       "}\n",
       "\n",
       "#sk-container-id-1 div.sk-parallel-item:only-child::after {\n",
       "  width: 0;\n",
       "}\n",
       "\n",
       "/* Serial-specific style estimator block */\n",
       "\n",
       "#sk-container-id-1 div.sk-serial {\n",
       "  display: flex;\n",
       "  flex-direction: column;\n",
       "  align-items: center;\n",
       "  background-color: var(--sklearn-color-background);\n",
       "  padding-right: 1em;\n",
       "  padding-left: 1em;\n",
       "}\n",
       "\n",
       "\n",
       "/* Toggleable style: style used for estimator/Pipeline/ColumnTransformer box that is\n",
       "clickable and can be expanded/collapsed.\n",
       "- Pipeline and ColumnTransformer use this feature and define the default style\n",
       "- Estimators will overwrite some part of the style using the `sk-estimator` class\n",
       "*/\n",
       "\n",
       "/* Pipeline and ColumnTransformer style (default) */\n",
       "\n",
       "#sk-container-id-1 div.sk-toggleable {\n",
       "  /* Default theme specific background. It is overwritten whether we have a\n",
       "  specific estimator or a Pipeline/ColumnTransformer */\n",
       "  background-color: var(--sklearn-color-background);\n",
       "}\n",
       "\n",
       "/* Toggleable label */\n",
       "#sk-container-id-1 label.sk-toggleable__label {\n",
       "  cursor: pointer;\n",
       "  display: flex;\n",
       "  width: 100%;\n",
       "  margin-bottom: 0;\n",
       "  padding: 0.5em;\n",
       "  box-sizing: border-box;\n",
       "  text-align: center;\n",
       "  align-items: start;\n",
       "  justify-content: space-between;\n",
       "  gap: 0.5em;\n",
       "}\n",
       "\n",
       "#sk-container-id-1 label.sk-toggleable__label .caption {\n",
       "  font-size: 0.6rem;\n",
       "  font-weight: lighter;\n",
       "  color: var(--sklearn-color-text-muted);\n",
       "}\n",
       "\n",
       "#sk-container-id-1 label.sk-toggleable__label-arrow:before {\n",
       "  /* Arrow on the left of the label */\n",
       "  content: \"▸\";\n",
       "  float: left;\n",
       "  margin-right: 0.25em;\n",
       "  color: var(--sklearn-color-icon);\n",
       "}\n",
       "\n",
       "#sk-container-id-1 label.sk-toggleable__label-arrow:hover:before {\n",
       "  color: var(--sklearn-color-text);\n",
       "}\n",
       "\n",
       "/* Toggleable content - dropdown */\n",
       "\n",
       "#sk-container-id-1 div.sk-toggleable__content {\n",
       "  max-height: 0;\n",
       "  max-width: 0;\n",
       "  overflow: hidden;\n",
       "  text-align: left;\n",
       "  /* unfitted */\n",
       "  background-color: var(--sklearn-color-unfitted-level-0);\n",
       "}\n",
       "\n",
       "#sk-container-id-1 div.sk-toggleable__content.fitted {\n",
       "  /* fitted */\n",
       "  background-color: var(--sklearn-color-fitted-level-0);\n",
       "}\n",
       "\n",
       "#sk-container-id-1 div.sk-toggleable__content pre {\n",
       "  margin: 0.2em;\n",
       "  border-radius: 0.25em;\n",
       "  color: var(--sklearn-color-text);\n",
       "  /* unfitted */\n",
       "  background-color: var(--sklearn-color-unfitted-level-0);\n",
       "}\n",
       "\n",
       "#sk-container-id-1 div.sk-toggleable__content.fitted pre {\n",
       "  /* unfitted */\n",
       "  background-color: var(--sklearn-color-fitted-level-0);\n",
       "}\n",
       "\n",
       "#sk-container-id-1 input.sk-toggleable__control:checked~div.sk-toggleable__content {\n",
       "  /* Expand drop-down */\n",
       "  max-height: 200px;\n",
       "  max-width: 100%;\n",
       "  overflow: auto;\n",
       "}\n",
       "\n",
       "#sk-container-id-1 input.sk-toggleable__control:checked~label.sk-toggleable__label-arrow:before {\n",
       "  content: \"▾\";\n",
       "}\n",
       "\n",
       "/* Pipeline/ColumnTransformer-specific style */\n",
       "\n",
       "#sk-container-id-1 div.sk-label input.sk-toggleable__control:checked~label.sk-toggleable__label {\n",
       "  color: var(--sklearn-color-text);\n",
       "  background-color: var(--sklearn-color-unfitted-level-2);\n",
       "}\n",
       "\n",
       "#sk-container-id-1 div.sk-label.fitted input.sk-toggleable__control:checked~label.sk-toggleable__label {\n",
       "  background-color: var(--sklearn-color-fitted-level-2);\n",
       "}\n",
       "\n",
       "/* Estimator-specific style */\n",
       "\n",
       "/* Colorize estimator box */\n",
       "#sk-container-id-1 div.sk-estimator input.sk-toggleable__control:checked~label.sk-toggleable__label {\n",
       "  /* unfitted */\n",
       "  background-color: var(--sklearn-color-unfitted-level-2);\n",
       "}\n",
       "\n",
       "#sk-container-id-1 div.sk-estimator.fitted input.sk-toggleable__control:checked~label.sk-toggleable__label {\n",
       "  /* fitted */\n",
       "  background-color: var(--sklearn-color-fitted-level-2);\n",
       "}\n",
       "\n",
       "#sk-container-id-1 div.sk-label label.sk-toggleable__label,\n",
       "#sk-container-id-1 div.sk-label label {\n",
       "  /* The background is the default theme color */\n",
       "  color: var(--sklearn-color-text-on-default-background);\n",
       "}\n",
       "\n",
       "/* On hover, darken the color of the background */\n",
       "#sk-container-id-1 div.sk-label:hover label.sk-toggleable__label {\n",
       "  color: var(--sklearn-color-text);\n",
       "  background-color: var(--sklearn-color-unfitted-level-2);\n",
       "}\n",
       "\n",
       "/* Label box, darken color on hover, fitted */\n",
       "#sk-container-id-1 div.sk-label.fitted:hover label.sk-toggleable__label.fitted {\n",
       "  color: var(--sklearn-color-text);\n",
       "  background-color: var(--sklearn-color-fitted-level-2);\n",
       "}\n",
       "\n",
       "/* Estimator label */\n",
       "\n",
       "#sk-container-id-1 div.sk-label label {\n",
       "  font-family: monospace;\n",
       "  font-weight: bold;\n",
       "  display: inline-block;\n",
       "  line-height: 1.2em;\n",
       "}\n",
       "\n",
       "#sk-container-id-1 div.sk-label-container {\n",
       "  text-align: center;\n",
       "}\n",
       "\n",
       "/* Estimator-specific */\n",
       "#sk-container-id-1 div.sk-estimator {\n",
       "  font-family: monospace;\n",
       "  border: 1px dotted var(--sklearn-color-border-box);\n",
       "  border-radius: 0.25em;\n",
       "  box-sizing: border-box;\n",
       "  margin-bottom: 0.5em;\n",
       "  /* unfitted */\n",
       "  background-color: var(--sklearn-color-unfitted-level-0);\n",
       "}\n",
       "\n",
       "#sk-container-id-1 div.sk-estimator.fitted {\n",
       "  /* fitted */\n",
       "  background-color: var(--sklearn-color-fitted-level-0);\n",
       "}\n",
       "\n",
       "/* on hover */\n",
       "#sk-container-id-1 div.sk-estimator:hover {\n",
       "  /* unfitted */\n",
       "  background-color: var(--sklearn-color-unfitted-level-2);\n",
       "}\n",
       "\n",
       "#sk-container-id-1 div.sk-estimator.fitted:hover {\n",
       "  /* fitted */\n",
       "  background-color: var(--sklearn-color-fitted-level-2);\n",
       "}\n",
       "\n",
       "/* Specification for estimator info (e.g. \"i\" and \"?\") */\n",
       "\n",
       "/* Common style for \"i\" and \"?\" */\n",
       "\n",
       ".sk-estimator-doc-link,\n",
       "a:link.sk-estimator-doc-link,\n",
       "a:visited.sk-estimator-doc-link {\n",
       "  float: right;\n",
       "  font-size: smaller;\n",
       "  line-height: 1em;\n",
       "  font-family: monospace;\n",
       "  background-color: var(--sklearn-color-background);\n",
       "  border-radius: 1em;\n",
       "  height: 1em;\n",
       "  width: 1em;\n",
       "  text-decoration: none !important;\n",
       "  margin-left: 0.5em;\n",
       "  text-align: center;\n",
       "  /* unfitted */\n",
       "  border: var(--sklearn-color-unfitted-level-1) 1pt solid;\n",
       "  color: var(--sklearn-color-unfitted-level-1);\n",
       "}\n",
       "\n",
       ".sk-estimator-doc-link.fitted,\n",
       "a:link.sk-estimator-doc-link.fitted,\n",
       "a:visited.sk-estimator-doc-link.fitted {\n",
       "  /* fitted */\n",
       "  border: var(--sklearn-color-fitted-level-1) 1pt solid;\n",
       "  color: var(--sklearn-color-fitted-level-1);\n",
       "}\n",
       "\n",
       "/* On hover */\n",
       "div.sk-estimator:hover .sk-estimator-doc-link:hover,\n",
       ".sk-estimator-doc-link:hover,\n",
       "div.sk-label-container:hover .sk-estimator-doc-link:hover,\n",
       ".sk-estimator-doc-link:hover {\n",
       "  /* unfitted */\n",
       "  background-color: var(--sklearn-color-unfitted-level-3);\n",
       "  color: var(--sklearn-color-background);\n",
       "  text-decoration: none;\n",
       "}\n",
       "\n",
       "div.sk-estimator.fitted:hover .sk-estimator-doc-link.fitted:hover,\n",
       ".sk-estimator-doc-link.fitted:hover,\n",
       "div.sk-label-container:hover .sk-estimator-doc-link.fitted:hover,\n",
       ".sk-estimator-doc-link.fitted:hover {\n",
       "  /* fitted */\n",
       "  background-color: var(--sklearn-color-fitted-level-3);\n",
       "  color: var(--sklearn-color-background);\n",
       "  text-decoration: none;\n",
       "}\n",
       "\n",
       "/* Span, style for the box shown on hovering the info icon */\n",
       ".sk-estimator-doc-link span {\n",
       "  display: none;\n",
       "  z-index: 9999;\n",
       "  position: relative;\n",
       "  font-weight: normal;\n",
       "  right: .2ex;\n",
       "  padding: .5ex;\n",
       "  margin: .5ex;\n",
       "  width: min-content;\n",
       "  min-width: 20ex;\n",
       "  max-width: 50ex;\n",
       "  color: var(--sklearn-color-text);\n",
       "  box-shadow: 2pt 2pt 4pt #999;\n",
       "  /* unfitted */\n",
       "  background: var(--sklearn-color-unfitted-level-0);\n",
       "  border: .5pt solid var(--sklearn-color-unfitted-level-3);\n",
       "}\n",
       "\n",
       ".sk-estimator-doc-link.fitted span {\n",
       "  /* fitted */\n",
       "  background: var(--sklearn-color-fitted-level-0);\n",
       "  border: var(--sklearn-color-fitted-level-3);\n",
       "}\n",
       "\n",
       ".sk-estimator-doc-link:hover span {\n",
       "  display: block;\n",
       "}\n",
       "\n",
       "/* \"?\"-specific style due to the `<a>` HTML tag */\n",
       "\n",
       "#sk-container-id-1 a.estimator_doc_link {\n",
       "  float: right;\n",
       "  font-size: 1rem;\n",
       "  line-height: 1em;\n",
       "  font-family: monospace;\n",
       "  background-color: var(--sklearn-color-background);\n",
       "  border-radius: 1rem;\n",
       "  height: 1rem;\n",
       "  width: 1rem;\n",
       "  text-decoration: none;\n",
       "  /* unfitted */\n",
       "  color: var(--sklearn-color-unfitted-level-1);\n",
       "  border: var(--sklearn-color-unfitted-level-1) 1pt solid;\n",
       "}\n",
       "\n",
       "#sk-container-id-1 a.estimator_doc_link.fitted {\n",
       "  /* fitted */\n",
       "  border: var(--sklearn-color-fitted-level-1) 1pt solid;\n",
       "  color: var(--sklearn-color-fitted-level-1);\n",
       "}\n",
       "\n",
       "/* On hover */\n",
       "#sk-container-id-1 a.estimator_doc_link:hover {\n",
       "  /* unfitted */\n",
       "  background-color: var(--sklearn-color-unfitted-level-3);\n",
       "  color: var(--sklearn-color-background);\n",
       "  text-decoration: none;\n",
       "}\n",
       "\n",
       "#sk-container-id-1 a.estimator_doc_link.fitted:hover {\n",
       "  /* fitted */\n",
       "  background-color: var(--sklearn-color-fitted-level-3);\n",
       "}\n",
       "</style><div id=\"sk-container-id-1\" class=\"sk-top-container\"><div class=\"sk-text-repr-fallback\"><pre>LogisticRegression(C=1)</pre><b>In a Jupyter environment, please rerun this cell to show the HTML representation or trust the notebook. <br />On GitHub, the HTML representation is unable to render, please try loading this page with nbviewer.org.</b></div><div class=\"sk-container\" hidden><div class=\"sk-item\"><div class=\"sk-estimator fitted sk-toggleable\"><input class=\"sk-toggleable__control sk-hidden--visually\" id=\"sk-estimator-id-1\" type=\"checkbox\" checked><label for=\"sk-estimator-id-1\" class=\"sk-toggleable__label fitted sk-toggleable__label-arrow\"><div><div>LogisticRegression</div></div><div><a class=\"sk-estimator-doc-link fitted\" rel=\"noreferrer\" target=\"_blank\" href=\"https://scikit-learn.org/1.6/modules/generated/sklearn.linear_model.LogisticRegression.html\">?<span>Documentation for LogisticRegression</span></a><span class=\"sk-estimator-doc-link fitted\">i<span>Fitted</span></span></div></label><div class=\"sk-toggleable__content fitted\"><pre>LogisticRegression(C=1)</pre></div> </div></div></div></div>"
      ],
      "text/plain": [
       "LogisticRegression(C=1)"
      ]
     },
     "execution_count": 41,
     "metadata": {},
     "output_type": "execute_result"
    }
   ],
   "source": [
    "reg = LogisticRegression(C = 1)\n",
    "reg.fit(X_train, y_train)"
   ]
  },
  {
   "cell_type": "code",
   "execution_count": 48,
   "id": "5bf0c30d",
   "metadata": {},
   "outputs": [
    {
     "data": {
      "text/plain": [
       "0"
      ]
     },
     "execution_count": 48,
     "metadata": {},
     "output_type": "execute_result"
    }
   ],
   "source": [
    "sex_index = list(d_train[0].keys()).index(\"sex\")\n",
    "sex_index"
   ]
  },
  {
   "cell_type": "code",
   "execution_count": 83,
   "id": "1287e40c",
   "metadata": {},
   "outputs": [
    {
     "data": {
      "text/plain": [
       "17403"
      ]
     },
     "execution_count": 83,
     "metadata": {},
     "output_type": "execute_result"
    }
   ],
   "source": [
    "z_0_indices = [index for index, dict in enumerate(d_train) if dict['sex'] != 'Male']\n",
    "z_1_indices = [index for index, dict in enumerate(d_train) if dict['sex'] != 'Female']"
   ]
  },
  {
   "cell_type": "code",
   "execution_count": 86,
   "id": "697d7ece",
   "metadata": {},
   "outputs": [
    {
     "data": {
      "text/plain": [
       "0.24070945945945946"
      ]
     },
     "execution_count": 86,
     "metadata": {},
     "output_type": "execute_result"
    }
   ],
   "source": [
    "np.mean(y_train)"
   ]
  },
  {
   "cell_type": "code",
   "execution_count": 6,
   "id": "ebd9125f-0557-433f-8dff-e366c5bc8f10",
   "metadata": {},
   "outputs": [
    {
     "name": "stdout",
     "output_type": "stream",
     "text": [
      "Dataset discrimination: -1.000000\n"
     ]
    }
   ],
   "source": [
    "def discrimination_score(datapoints, labels):\n",
    "    z_1_indices = [index for index, elem in enumerate(X_train) if elem[9] == 1]\n",
    "    return -1\n",
    "\n",
    "dataset_discrimination = discrimination_score(X_train, y_train)\n",
    "print(f'Dataset discrimination: {dataset_discrimination:.6f}')"
   ]
  },
  {
   "cell_type": "code",
   "execution_count": 7,
   "id": "12691525-fc51-4996-a3a9-de73325e2369",
   "metadata": {},
   "outputs": [],
   "source": [
    "answers['Q1'] = dataset_discrimination"
   ]
  },
  {
   "cell_type": "markdown",
   "id": "90a4bf92-e751-4738-8582-0f40b1cf4a89",
   "metadata": {},
   "source": [
    "## 3.2\n",
    "\n",
    "#### (1 point)\n",
    "\n",
    "**Report:** The discrimination of the classifier."
   ]
  },
  {
   "cell_type": "code",
   "execution_count": 8,
   "id": "96bc6daa-dabc-4e19-b181-f734a1fc5c51",
   "metadata": {},
   "outputs": [
    {
     "name": "stdout",
     "output_type": "stream",
     "text": [
      "Classifier discrimination (Q2): -1.000000\n"
     ]
    }
   ],
   "source": [
    "# [YOUR CODE HERE]\n",
    "\n",
    "model_q2 = ...\n",
    "preds_train_q2 = ...\n",
    "classifier_discrimination_q2 = discrimination_score(d_train, preds_train_q2)\n",
    "\n",
    "print(f'Classifier discrimination (Q2): {classifier_discrimination_q2:.6f}')"
   ]
  },
  {
   "cell_type": "code",
   "execution_count": 9,
   "id": "a5132a13-e8e1-46ac-b85a-723e6861afc1",
   "metadata": {},
   "outputs": [],
   "source": [
    "answers['Q2'] = classifier_discrimination_q2"
   ]
  },
  {
   "cell_type": "markdown",
   "id": "d8acebff-a2f5-46c2-ad7e-eab124683e78",
   "metadata": {},
   "source": [
    "## 3.3\n",
    "#### (1 point)\n",
    "\n",
    "Implement a \"massaging\" approach that improves the discrimination score by at least 3\\%.\n",
    "\n",
    "\n",
    "**Report:** The new discrimination score."
   ]
  },
  {
   "cell_type": "code",
   "execution_count": 10,
   "id": "e3be11db-3a82-4778-8bb8-a5df7a280226",
   "metadata": {},
   "outputs": [
    {
     "name": "stdout",
     "output_type": "stream",
     "text": [
      "Classifier discrimination (Q3):\t -1.000000\n",
      "Classifier relative improvement (Q3):\t -0.000000%\n"
     ]
    }
   ],
   "source": [
    "# find promotion candidates\n",
    "\n",
    "\n",
    "promote_candidates = ...\n",
    "demote_candidates = ...\n",
    "M = ...\n",
    "y_train_fixed_q3 = ...\n",
    "\n",
    "# train model\n",
    "model_q3 = ...\n",
    "preds_train_q3 = ...\n",
    "classifier_discrimination_q3 = discrimination_score(d_train, preds_train_q3)\n",
    "\n",
    "print(f'Classifier discrimination (Q3):\\t {classifier_discrimination_q3:.6f}')\n",
    "print(f'Classifier relative improvement (Q3):\\t {100*(classifier_discrimination_q2 - classifier_discrimination_q3) / classifier_discrimination_q3:.6f}%')"
   ]
  },
  {
   "cell_type": "code",
   "execution_count": 11,
   "id": "377e7537-19e3-4ecd-a087-68c287a6e951",
   "metadata": {},
   "outputs": [],
   "source": [
    "answers['Q3'] = classifier_discrimination_q3"
   ]
  },
  {
   "cell_type": "markdown",
   "id": "70bfdcad-67a2-4a36-9915-f7e480802c25",
   "metadata": {},
   "source": [
    "## 3.4\n",
    "\n",
    "#### (2 points)\n",
    "\n",
    "Implement a \"reweighting\" approach that improves the discrimination score by at least 3%; report the new discrimination score.\n",
    "\n",
    "**Report:** The new discrimination score."
   ]
  },
  {
   "cell_type": "code",
   "execution_count": 12,
   "id": "1c2db3fe-ec1e-4612-a58d-f2cb74e8d630",
   "metadata": {},
   "outputs": [
    {
     "name": "stdout",
     "output_type": "stream",
     "text": [
      "Classifier discrimination (Q4):\t -1.000000\n",
      "Classifier relative improvement (Q4):\t -0.000000%\n"
     ]
    }
   ],
   "source": [
    "# [YOUR CODE HERE]\n",
    "\n",
    "w_pos_female = ...\n",
    "w_neg_female = ...\n",
    "\n",
    "w_pos_male = ...\n",
    "w_neg_male = ...\n",
    "\n",
    "weights = ...\n",
    "\n",
    "model_q4 = ...\n",
    "preds_train_q4 = ...\n",
    "classifier_discrimination_q4 = discrimination_score(d_train, preds_train_q4)\n",
    "\n",
    "print(f'Classifier discrimination (Q4):\\t {classifier_discrimination_q4:.6f}')\n",
    "print(f'Classifier relative improvement (Q4):\\t {100*(classifier_discrimination_q2 - classifier_discrimination_q4) / classifier_discrimination_q2:.6f}%')"
   ]
  },
  {
   "cell_type": "code",
   "execution_count": 13,
   "id": "07d70156-c74b-4569-9240-0f13768dc89c",
   "metadata": {},
   "outputs": [],
   "source": [
    "answers['Q4'] = classifier_discrimination_q4"
   ]
  },
  {
   "cell_type": "markdown",
   "id": "57bbb0a0-b167-4d8d-86dd-3614b0461a8d",
   "metadata": {},
   "source": [
    "## 3.5\n",
    "\n",
    "#### (2 points)\n",
    "\n",
    "Implement a \"post processing\" (affirmative action) policy. Lowering per-group thresholds will increase both the (per-group) FPR and the (per-group) TPR. For whichever group has the lower TPR, lower the threshold until the TPR for both groups is (as close as possible to) equal. Report the rates (TPR_0, TPR_1, FPR_0, and FPR_1) for both groups.\n",
    "\n",
    "**Report:** The TPR and FPR rates for both groups as a list: `[TPR_0, TPR_1, FPR_0, FPR_1]`.\n"
   ]
  },
  {
   "cell_type": "code",
   "execution_count": 14,
   "id": "f672488e-3b41-432c-a325-179bc85534d6",
   "metadata": {},
   "outputs": [
    {
     "name": "stdout",
     "output_type": "stream",
     "text": [
      "[None, None, None, None]\n"
     ]
    }
   ],
   "source": [
    "male_thresh = 0.5\n",
    "female_thresh_q5 = ...\n",
    "ans_q5 = [None, None, None, None]  # [TPR_male, TPR_female, FPR_male, FPR_female]\n",
    "\n",
    "print(ans_q5)"
   ]
  },
  {
   "cell_type": "code",
   "execution_count": 15,
   "id": "2cceea87-8bf5-4428-b2ae-75e19bc18d25",
   "metadata": {},
   "outputs": [],
   "source": [
    "answers['Q5'] = ans_q5"
   ]
  },
  {
   "cell_type": "markdown",
   "id": "ad77a5c2-e5e8-4ae9-ac3f-c6fb40112d1c",
   "metadata": {},
   "source": [
    "## 3.6\n",
    "\n",
    "#### (1 point)\n",
    "\n",
    "Modify the solution from Q5 to exclude the sensitive attribute ($z$) from the classifier’s feature vector. Implement the same strategy as in Q5.\n",
    "\n",
    "**Report:** The TPR and FPR rates for both groups as a list: `[TPR_0, TPR_1, FPR_0, FPR_1]`.\n"
   ]
  },
  {
   "cell_type": "code",
   "execution_count": 16,
   "id": "c384e3da-e799-4e51-a73c-6b9a67292886",
   "metadata": {},
   "outputs": [
    {
     "name": "stdout",
     "output_type": "stream",
     "text": [
      "[None, None, None, None]\n"
     ]
    }
   ],
   "source": [
    "male_thresh = 0.5\n",
    "female_thresh_q6 = ...\n",
    "ans_q6 = [None, None, None, None]  # [TPR_male, TPR_female, FPR_male, FPR_female]\n",
    "\n",
    "print(ans_q6)"
   ]
  },
  {
   "cell_type": "code",
   "execution_count": 17,
   "id": "ab419f7c-bbd5-4c7a-9d22-ecb7622354ce",
   "metadata": {},
   "outputs": [],
   "source": [
    "answers['Q6'] = ans_q6"
   ]
  },
  {
   "cell_type": "markdown",
   "id": "6d1b6ddb-4f70-4b84-b107-ac725e561097",
   "metadata": {},
   "source": [
    "## 3.7\n",
    "\n",
    "#### (1 point)\n",
    "\n",
    "Again modifying the solution from Q5, train two separate classifiers, one for $z=0$ and one for $z=1$. Implement the same strategy as in Q5.\n",
    "\n",
    "**Report:** The TPR and FPR rates for both groups as a list: `[TPR_0, TPR_1, FPR_0, FPR_1]`."
   ]
  },
  {
   "cell_type": "code",
   "execution_count": 18,
   "id": "f1e5b8b2-1726-4525-b4f0-001f6a09e011",
   "metadata": {},
   "outputs": [],
   "source": [
    "# [YOUR CODE HERE]\n",
    "\n",
    "model_male_q7 = ...\n",
    "model_female_q7 = ...\n",
    "\n",
    "scores_q7 = ...\n",
    "\n",
    "\n",
    "male_thresh = 0.5\n",
    "female_thresh_q7 = ...\n",
    "ans_q7 = [None, None, None, None]  # [TPR_male, TPR_female, FPR_male, FPR_female]"
   ]
  },
  {
   "cell_type": "code",
   "execution_count": 19,
   "id": "cc05fed8-4ba2-4f2b-95d3-c1cf5a76fb11",
   "metadata": {},
   "outputs": [],
   "source": [
    "answers['Q7'] = ans_q7"
   ]
  },
  {
   "cell_type": "markdown",
   "id": "5a65b8d4-5a3c-44cf-bafc-e5295b4b504f",
   "metadata": {},
   "source": [
    "## Saving Answers"
   ]
  },
  {
   "cell_type": "code",
   "execution_count": 20,
   "id": "5174381f-5cd8-4087-9f70-fed6dddc9ca3",
   "metadata": {},
   "outputs": [],
   "source": [
    "import json"
   ]
  },
  {
   "cell_type": "code",
   "execution_count": 21,
   "id": "50192dcf-8859-4df8-a7bb-276440f5bfd1",
   "metadata": {},
   "outputs": [],
   "source": [
    "# extra step to make things serializable\n",
    "\n",
    "with open('answers.txt', 'w' ) as f:\n",
    "    json.dump(answers, f, indent=2)"
   ]
  },
  {
   "cell_type": "code",
   "execution_count": null,
   "id": "7b0be4d3-63bb-483a-b65e-d217afb8f356",
   "metadata": {},
   "outputs": [],
   "source": []
  },
  {
   "cell_type": "code",
   "execution_count": null,
   "id": "03bff8bb-947c-4df9-b71c-655c413fd6c9",
   "metadata": {},
   "outputs": [],
   "source": []
  }
 ],
 "metadata": {
  "kernelspec": {
   "display_name": "Python 3",
   "language": "python",
   "name": "python3"
  },
  "language_info": {
   "codemirror_mode": {
    "name": "ipython",
    "version": 3
   },
   "file_extension": ".py",
   "mimetype": "text/x-python",
   "name": "python",
   "nbconvert_exporter": "python",
   "pygments_lexer": "ipython3",
   "version": "3.11.7"
  }
 },
 "nbformat": 4,
 "nbformat_minor": 5
}
